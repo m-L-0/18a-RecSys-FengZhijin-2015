{
 "cells": [
  {
   "cell_type": "code",
   "execution_count": 1,
   "metadata": {},
   "outputs": [],
   "source": [
    "import numpy as np"
   ]
  },
  {
   "cell_type": "code",
   "execution_count": 2,
   "metadata": {},
   "outputs": [],
   "source": [
    "def cos_sim(x, y):\n",
    "    \"\"\"余弦相似性\n",
    "\n",
    "    Args:\n",
    "    - x: mat, 以行向量的形式存储\n",
    "    - y: mat, 以行向量的形式存储\n",
    "\n",
    "    :return: x 和 y 之间的余弦相似度\n",
    "    \"\"\"\n",
    "    x = x.reshape((1, -1))\n",
    "    y = y.reshape((1, -1))\n",
    "    numerator = np.dot(x, y.T)  # x 和 y 之间的内积\n",
    "    denominator = np.sqrt(np.dot(x, x.T)) * np.sqrt(np.dot(y, y.T))\n",
    "    return (numerator / denominator)[0, 0]"
   ]
  },
  {
   "cell_type": "code",
   "execution_count": 3,
   "metadata": {},
   "outputs": [],
   "source": [
    "def similarity(data):\n",
    "    \"\"\"计算矩阵中任意两行之间的相似度\n",
    "    Args:\n",
    "    - data: mat, 任意矩阵\n",
    "\n",
    "    :return: w, mat, 任意两行之间的相似度\n",
    "    \"\"\"\n",
    "\n",
    "    m = np.shape(data)[0]  # 用户的数量\n",
    "    # 初始化相似矩阵\n",
    "    w = np.mat(np.zeros((m, m)))\n",
    "\n",
    "    for i in range(m):\n",
    "        for j in range(i, m):\n",
    "            if not j == i:\n",
    "                # 计算任意两行之间的相似度\n",
    "                w[i, j] = cos_sim(data[i], data[j])\n",
    "                w[j, i] = w[i, j]\n",
    "            else:\n",
    "                w[i, j] = 0\n",
    "    return w"
   ]
  },
  {
   "cell_type": "code",
   "execution_count": 4,
   "metadata": {},
   "outputs": [],
   "source": [
    "def user_based_recommend(data, w, user):\n",
    "    \"\"\"基于用户相似性为用户 user 推荐物品\n",
    "\n",
    "    Args:\n",
    "    - data: mat, 用户物品矩阵\n",
    "    - w: mat, 用户之间的相似度\n",
    "    - user: int, 用户编号\n",
    "\n",
    "    :return: predict, list, 推荐列表\n",
    "    \"\"\"\n",
    "    m, n = np.shape(data)\n",
    "    interaction = data[user, ]  # 用户 user 与物品信息\n",
    "\n",
    "    # 找到用户 user 没有互动过的物品\n",
    "    not_inter = []\n",
    "    for i in range(n):\n",
    "        if interaction[i] == 0:  # 没有互动的物品\n",
    "            not_inter.append(i)\n",
    "\n",
    "    # 对没有互动过的物品进行预测\n",
    "    predict = {}\n",
    "    for x in not_inter:\n",
    "        item = np.copy(data[:, x])  # 找到所有用户对商品 x 的互动信息\n",
    "        for i in range(m):  # 对每一个用户\n",
    "            if item[i] != 0:\n",
    "                if x not in predict:\n",
    "                    predict[x] = w[user, i] * item[i]\n",
    "                else:\n",
    "                    predict[x] = predict[x] + w[user, i] + item[i]\n",
    "    return sorted(predict.items(), key=lambda d: d[1], reverse=True)"
   ]
  },
  {
   "cell_type": "code",
   "execution_count": 5,
   "metadata": {},
   "outputs": [],
   "source": [
    "def top_k(predict, n):\n",
    "    \"\"\"为用户推荐前 n 个物品\n",
    "\n",
    "    Args:\n",
    "    - predict: list, 排好序的物品列表\n",
    "    - k: int, 推荐的物品个数\n",
    "\n",
    "    :return: top_recom, list, top n 个物品\n",
    "    \"\"\"\n",
    "    top_recom = []\n",
    "    len_result = len(predict)\n",
    "    if n >= len_result:\n",
    "        top_recom = predict\n",
    "    else:\n",
    "        for i in range(n):\n",
    "            top_recom.append(predict[i])\n",
    "    return top_recom"
   ]
  },
  {
   "cell_type": "code",
   "execution_count": 6,
   "metadata": {},
   "outputs": [],
   "source": [
    "def read_train(filename='u1.base'): \n",
    "    \"\"\"读取训练集数据\n",
    "    \n",
    "    Args:\n",
    "    - filename: str, 读取的文件名\n",
    "    \n",
    "    return: numpy.array格式数据\n",
    "    \"\"\"\n",
    "    data_path ='../ml-100k/'       \n",
    "  \n",
    "    #加载数据  \n",
    "    data = np.zeros((943, 1682))\n",
    "    for line in open(data_path + filename, 'r'):  \n",
    "        (user,movieid,rating,ts)=line.split('\\t')\n",
    "        data[int(user)-1, int(movieid)-1] = 1.\n",
    "    return data"
   ]
  },
  {
   "cell_type": "code",
   "execution_count": 38,
   "metadata": {},
   "outputs": [],
   "source": [
    "def read_test(filename='u1.test'): \n",
    "    \"\"\"读取测试集数据\n",
    "    \n",
    "    Args:\n",
    "    - filename: str, 读取的文件名\n",
    "    \n",
    "    return: numpy.array格式数据\n",
    "    \"\"\"\n",
    "    data_path ='../ml-100k/'       \n",
    "  \n",
    "    #加载数据  \n",
    "    data = []\n",
    "    base = []\n",
    "    for line in open(data_path + filename, 'r'):  \n",
    "        (user,movieid,rating,ts)=line.split('\\t')\n",
    "        if len(base) == 0:\n",
    "            base.append(int(user))\n",
    "            base.append(int(movieid))\n",
    "        elif len(base) != 0 and int(user) == base[0]:\n",
    "            base.append(int(movieid))\n",
    "        elif len(base) != 0 and int(user) != base[0]:\n",
    "            data.append(base)\n",
    "            base = []\n",
    "            base.append(int(user))\n",
    "            base.append(int(movieid))\n",
    "    data.append(base)\n",
    "    data = np.array(data)\n",
    "    test_data = {}\n",
    "    for i in data:\n",
    "        test_data[i[0]] = i[1:]\n",
    "    return test_data\n"
   ]
  },
  {
   "cell_type": "code",
   "execution_count": 44,
   "metadata": {},
   "outputs": [
    {
     "name": "stdout",
     "output_type": "stream",
     "text": [
      "<class 'list'>\n"
     ]
    }
   ],
   "source": [
    "train_data = read_train()\n",
    "test_data = read_test()\n",
    "    \n",
    "w = similarity(train_data)\n",
    "predict = user_based_recommend(train_data, w, 0)\n",
    "recom = top_k(predict, 5)"
   ]
  },
  {
   "cell_type": "code",
   "execution_count": 46,
   "metadata": {
    "scrolled": true
   },
   "outputs": [],
   "source": [
    "def precision_recall(test, N):\n",
    "    \"\"\"准确率、召回率\n",
    "\n",
    "    Args:\n",
    "    - test: 测试集\n",
    "    - N: 推荐物品个数\n",
    "\n",
    "    :return: 准确率和召回率\n",
    "    \"\"\"\n",
    "    hit = 0\n",
    "    n_recall = 0\n",
    "    n_precision = 0\n",
    "    num = 0\n",
    "    for user, items in test.items():\n",
    "        predict = user_based_recommend(train_data, w, num)\n",
    "        rank = top_k(predict, 5)\n",
    "        for j in range(len(rank)):\n",
    "            if rank[j] == items[j]:\n",
    "                hit += 1\n",
    "        n_recall += len(items)\n",
    "        n_precision += N\n",
    "        num += 1\n",
    "    return hit / (1.0 * n_recall), hit / (1.0 * n_precision)"
   ]
  },
  {
   "cell_type": "code",
   "execution_count": null,
   "metadata": {},
   "outputs": [],
   "source": []
  }
 ],
 "metadata": {
  "kernelspec": {
   "display_name": "Python 3",
   "language": "python",
   "name": "python3"
  },
  "language_info": {
   "codemirror_mode": {
    "name": "ipython",
    "version": 3
   },
   "file_extension": ".py",
   "mimetype": "text/x-python",
   "name": "python",
   "nbconvert_exporter": "python",
   "pygments_lexer": "ipython3",
   "version": "3.5.2"
  }
 },
 "nbformat": 4,
 "nbformat_minor": 2
}

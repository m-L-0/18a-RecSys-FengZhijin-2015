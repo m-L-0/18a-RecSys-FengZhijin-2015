{
 "cells": [
  {
   "cell_type": "code",
   "execution_count": 1,
   "metadata": {},
   "outputs": [],
   "source": [
    "import numpy as np"
   ]
  },
  {
   "cell_type": "code",
   "execution_count": 2,
   "metadata": {},
   "outputs": [],
   "source": [
    "def cos_sim(x, y):\n",
    "    \"\"\"余弦相似性\n",
    "\n",
    "    Args:\n",
    "    - x: mat, 以行向量的形式存储\n",
    "    - y: mat, 以行向量的形式存储\n",
    "\n",
    "    :return: x 和 y 之间的余弦相似度\n",
    "    \"\"\"\n",
    "    x = x.reshape((1, -1))\n",
    "    y = y.reshape((1, -1))\n",
    "    numerator = np.dot(x, y.T)  # x 和 y 之间的内积\n",
    "    denominator = np.sqrt(np.dot(x, x.T)) * np.sqrt(np.dot(y, y.T))\n",
    "    return (numerator / denominator)[0, 0]"
   ]
  },
  {
   "cell_type": "code",
   "execution_count": 3,
   "metadata": {},
   "outputs": [],
   "source": [
    "def similarity(data):\n",
    "    \"\"\"计算矩阵中任意两行之间的相似度\n",
    "    Args:\n",
    "    - data: mat, 任意矩阵\n",
    "\n",
    "    :return: w, mat, 任意两行之间的相似度\n",
    "    \"\"\"\n",
    "\n",
    "    m = np.shape(data)[0]  # 用户的数量\n",
    "    # 初始化相似矩阵\n",
    "    w = np.mat(np.zeros((m, m)))\n",
    "\n",
    "    for i in range(m):\n",
    "        for j in range(i, m):\n",
    "            if not j == i:\n",
    "                # 计算任意两行之间的相似度\n",
    "                w[i, j] = cos_sim(data[i], data[j])\n",
    "                w[j, i] = w[i, j]\n",
    "            else:\n",
    "                w[i, j] = 0\n",
    "    return w"
   ]
  },
  {
   "cell_type": "code",
   "execution_count": 4,
   "metadata": {},
   "outputs": [],
   "source": [
    "def item_based_recommend(data, w, user):\n",
    "    \"\"\"\n",
    "    基于物品相似度为用户 user 推荐物品\n",
    "\n",
    "    Args:\n",
    "    - data: mat, 物品用户矩阵\n",
    "    - w: mat, 物品与物品之间的相似性\n",
    "    - user: int, 用户编号\n",
    "\n",
    "    :return: predict, list, 推荐列表\n",
    "    \"\"\"\n",
    "\n",
    "    m, n = np.shape(data)  # m: 物品数量 n: 用户数量\n",
    "    interaction = data[:, user].T  # 用户 user 互动物品信息\n",
    "\n",
    "    # 找到用户 user 没有互动的商品\n",
    "    not_iter = []\n",
    "    for i in range(m):\n",
    "        if interaction[i] == 0:  # 用户 user 未打分项\n",
    "            not_iter.append(i)\n",
    "\n",
    "    # 对没有互动过的物品进行预测\n",
    "    predict = {}\n",
    "    for x in not_iter:\n",
    "        item = np.copy(interaction)  # 获取用户 user 对物品的互动信息\n",
    "        for j in range(m):   # 对每一个物品\n",
    "            if item[j] != 0:  # 利用互动过的物品预测\n",
    "                if x not in predict:\n",
    "                    predict[x] = w[x, j] * item[j]\n",
    "                else:\n",
    "                    predict[x] = predict[x] + w[x, j] * item[j]\n",
    "    # 按照预测的大小从大到小排序\n",
    "    return sorted(predict.items(), key=lambda d: d[1], reverse=True)"
   ]
  },
  {
   "cell_type": "code",
   "execution_count": 5,
   "metadata": {},
   "outputs": [],
   "source": [
    "def top_k(predict, n):\n",
    "    \"\"\"为物品推荐前 n 个用户\n",
    "\n",
    "    Args:\n",
    "    - predict: list, 排好序的用户列表\n",
    "    - k: int, 推荐的用户个数\n",
    "\n",
    "    :return: top_recom, list, top n 个用户\n",
    "    \"\"\"\n",
    "    top_recom = []\n",
    "    len_result = len(predict)\n",
    "    if n >= len_result:\n",
    "        top_recom = predict\n",
    "    else:\n",
    "        for i in range(n):\n",
    "            top_recom.append(predict[i])\n",
    "    return top_recom"
   ]
  },
  {
   "cell_type": "code",
   "execution_count": 6,
   "metadata": {},
   "outputs": [],
   "source": [
    "def read_train(filename='u1.base'): \n",
    "    \"\"\"读取训练集数据\n",
    "    \n",
    "    Args:\n",
    "    - filename: str, 读取的文件名\n",
    "    \n",
    "    return: numpy.array格式数据\n",
    "    \"\"\"\n",
    "    data_path ='../ml-100k/'       \n",
    "  \n",
    "    #加载数据  \n",
    "    data = np.zeros((1682, 943))\n",
    "    for line in open(data_path + filename, 'r'):  \n",
    "        (user,movieid,rating,ts)=line.split('\\t')\n",
    "        data[int(movieid)-1, int(user)-1] = 1.\n",
    "    return data"
   ]
  },
  {
   "cell_type": "code",
   "execution_count": 7,
   "metadata": {},
   "outputs": [],
   "source": [
    "def read_test(filename='u1.test'): \n",
    "    \"\"\"读取测试集数据\n",
    "    \n",
    "    Args:\n",
    "    - filename: str, 读取的文件名\n",
    "    \n",
    "    return: numpy.array格式数据\n",
    "    \"\"\"\n",
    "    data_path ='../ml-100k/'       \n",
    "  \n",
    "    #加载数据  \n",
    "    data = []\n",
    "    base = []\n",
    "    for line in open(data_path + filename, 'r'):  \n",
    "        (user,movieid,rating,ts)=line.split('\\t')\n",
    "        if len(base) == 0:\n",
    "            base.append(int(user))\n",
    "            base.append(int(movieid))\n",
    "        elif len(base) != 0 and int(user) == base[0]:\n",
    "            base.append(int(movieid))\n",
    "        elif len(base) != 0 and int(user) != base[0]:\n",
    "            data.append(base)\n",
    "            base = []\n",
    "            base.append(int(user))\n",
    "            base.append(int(movieid))\n",
    "    data.append(base)\n",
    "    data = np.array(data)\n",
    "    return data"
   ]
  },
  {
   "cell_type": "code",
   "execution_count": 8,
   "metadata": {},
   "outputs": [],
   "source": [
    "def train():\n",
    "    train_data = read_train()\n",
    "    test_data = read_test()\n",
    "    \n",
    "    w = similarity(train_data)\n",
    "    predict = item_based_recommend(train_data, w, 0)\n",
    "    recom = top_k(predict, 10)\n",
    "    return recom"
   ]
  },
  {
   "cell_type": "code",
   "execution_count": 9,
   "metadata": {},
   "outputs": [
    {
     "name": "stderr",
     "output_type": "stream",
     "text": [
      "/usr/local/lib/python3.5/dist-packages/ipykernel_launcher.py:14: RuntimeWarning: invalid value encountered in true_divide\n",
      "  \n"
     ]
    },
    {
     "data": {
      "text/plain": [
       "[(173, 49.70162884414777),\n",
       " (68, 47.345092416709434),\n",
       " (422, 46.386432099292875),\n",
       " (97, 46.35894145892537),\n",
       " (209, 46.197999464448614),\n",
       " (55, 46.068737508167736),\n",
       " (95, 46.00672950738956),\n",
       " (81, 45.37952164828667),\n",
       " (201, 45.37580253938097),\n",
       " (185, 44.392244831745266)]"
      ]
     },
     "execution_count": 9,
     "metadata": {},
     "output_type": "execute_result"
    }
   ],
   "source": [
    "train()"
   ]
  },
  {
   "cell_type": "code",
   "execution_count": null,
   "metadata": {},
   "outputs": [],
   "source": []
  }
 ],
 "metadata": {
  "kernelspec": {
   "display_name": "Python 3",
   "language": "python",
   "name": "python3"
  },
  "language_info": {
   "codemirror_mode": {
    "name": "ipython",
    "version": 3
   },
   "file_extension": ".py",
   "mimetype": "text/x-python",
   "name": "python",
   "nbconvert_exporter": "python",
   "pygments_lexer": "ipython3",
   "version": "3.5.2"
  }
 },
 "nbformat": 4,
 "nbformat_minor": 2
}
